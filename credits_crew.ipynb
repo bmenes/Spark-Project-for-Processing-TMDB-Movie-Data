{
 "cells": [
  {
   "cell_type": "code",
   "execution_count": 1,
   "id": "882e758c-d3d6-40f5-9265-74f5274726f5",
   "metadata": {},
   "outputs": [],
   "source": [
    "import findspark\n",
    "findspark.init(\"/opt/spark/\")\n",
    "from pyspark.sql import SparkSession, functions as F\n",
    "from pyspark.sql.types import *\n",
    "from pyspark.sql.functions import regexp_replace\n",
    "import configparser\n",
    "import os\n",
    "from pyspark.sql import functions as F\n",
    "from pyspark.sql.functions import month, date_format\n",
    "from pyspark.sql.functions import explode, col, from_json, struct\n",
    "from pyspark.sql.types import StructType, StructField, StringType, IntegerType\n",
    "from pyspark.sql.functions import split, explode, regexp_replace\n",
    "from pyspark.sql.types import StructType, StructField, IntegerType, StringType\n",
    "\n",
    "from pyspark.sql.functions import split, explode, regexp_replace, from_json\n",
    "\n",
    "from pyspark.sql.types import StructType, StructField, IntegerType, StringType"
   ]
  },
  {
   "cell_type": "code",
   "execution_count": 2,
   "id": "24141e4c-b265-42ac-8317-61a9c73900ce",
   "metadata": {},
   "outputs": [
    {
     "name": "stdout",
     "output_type": "stream",
     "text": [
      ":: loading settings :: url = jar:file:/opt/spark/jars/ivy-2.5.1.jar!/org/apache/ivy/core/settings/ivysettings.xml\n"
     ]
    },
    {
     "name": "stderr",
     "output_type": "stream",
     "text": [
      "Ivy Default Cache set to: /home/train/.ivy2/cache\n",
      "The jars for the packages stored in: /home/train/.ivy2/jars\n",
      "org.postgresql#postgresql added as a dependency\n",
      ":: resolving dependencies :: org.apache.spark#spark-submit-parent-fdcdcd86-d7df-489c-ac81-84371206590d;1.0\n",
      "\tconfs: [default]\n",
      "\tfound org.postgresql#postgresql;42.7.2 in central\n",
      "\tfound org.checkerframework#checker-qual;3.42.0 in central\n",
      ":: resolution report :: resolve 329ms :: artifacts dl 8ms\n",
      "\t:: modules in use:\n",
      "\torg.checkerframework#checker-qual;3.42.0 from central in [default]\n",
      "\torg.postgresql#postgresql;42.7.2 from central in [default]\n",
      "\t---------------------------------------------------------------------\n",
      "\t|                  |            modules            ||   artifacts   |\n",
      "\t|       conf       | number| search|dwnlded|evicted|| number|dwnlded|\n",
      "\t---------------------------------------------------------------------\n",
      "\t|      default     |   2   |   0   |   0   |   0   ||   2   |   0   |\n",
      "\t---------------------------------------------------------------------\n",
      ":: retrieving :: org.apache.spark#spark-submit-parent-fdcdcd86-d7df-489c-ac81-84371206590d\n",
      "\tconfs: [default]\n",
      "\t0 artifacts copied, 2 already retrieved (0kB/9ms)\n",
      "24/05/09 15:29:52 WARN NativeCodeLoader: Unable to load native-hadoop library for your platform... using builtin-java classes where applicable\n",
      "Setting default log level to \"WARN\".\n",
      "To adjust logging level use sc.setLogLevel(newLevel). For SparkR, use setLogLevel(newLevel).\n"
     ]
    }
   ],
   "source": [
    "spark = SparkSession.builder \\\n",
    ".appName(\"week10\") \\\n",
    ".config(\"spark.jars.packages\", \"org.postgresql:postgresql:42.7.2\") \\\n",
    ".master(\"local[2]\") \\\n",
    ".getOrCreate()"
   ]
  },
  {
   "cell_type": "code",
   "execution_count": 3,
   "id": "f48c0641-f6a8-4f11-918f-65ba1d5abcf9",
   "metadata": {},
   "outputs": [
    {
     "name": "stdout",
     "output_type": "stream",
     "text": [
      "openjdk 11.0.22 2024-01-16 LTS\n",
      "OpenJDK Runtime Environment (Red_Hat-11.0.22.0.7-1.el7_9) (build 11.0.22+7-LTS)\n",
      "OpenJDK 64-Bit Server VM (Red_Hat-11.0.22.0.7-1.el7_9) (build 11.0.22+7-LTS, mixed mode, sharing)\n"
     ]
    }
   ],
   "source": [
    "! java --version\n"
   ]
  },
  {
   "cell_type": "code",
   "execution_count": 4,
   "id": "629ca536-8413-49ce-9fbf-57d95c7ed69c",
   "metadata": {},
   "outputs": [
    {
     "name": "stderr",
     "output_type": "stream",
     "text": [
      "                                                                                \r"
     ]
    }
   ],
   "source": [
    "df = spark.read \\\n",
    ".format(\"csv\") \\\n",
    ".option(\"header\", True) \\\n",
    ".option(\"inferSchema\", True) \\\n",
    ".option(\"quote\", \"\\\"\") \\\n",
    ".option(\"escape\", \"\\\"\") \\\n",
    ".option(\"sep\",\",\") \\\n",
    ".load(\"datasets/tmdb_5000_movies_and_credits/tmdb_5000_credits.csv\")\n"
   ]
  },
  {
   "cell_type": "code",
   "execution_count": 5,
   "id": "ee3cc68f-fd6b-466a-a67e-94ac612cf19a",
   "metadata": {},
   "outputs": [
    {
     "name": "stdout",
     "output_type": "stream",
     "text": [
      "+--------+--------------------+--------------------+--------------------+\n",
      "|movie_id|               title|                cast|                crew|\n",
      "+--------+--------------------+--------------------+--------------------+\n",
      "|   19995|              Avatar|[{\"cast_id\": 242,...|[{\"credit_id\": \"5...|\n",
      "|     285|Pirates of the Ca...|[{\"cast_id\": 4, \"...|[{\"credit_id\": \"5...|\n",
      "|  206647|             Spectre|[{\"cast_id\": 1, \"...|[{\"credit_id\": \"5...|\n",
      "|   49026|The Dark Knight R...|[{\"cast_id\": 2, \"...|[{\"credit_id\": \"5...|\n",
      "|   49529|         John Carter|[{\"cast_id\": 5, \"...|[{\"credit_id\": \"5...|\n",
      "|     559|        Spider-Man 3|[{\"cast_id\": 30, ...|[{\"credit_id\": \"5...|\n",
      "|   38757|             Tangled|[{\"cast_id\": 34, ...|[{\"credit_id\": \"5...|\n",
      "|   99861|Avengers: Age of ...|[{\"cast_id\": 76, ...|[{\"credit_id\": \"5...|\n",
      "|     767|Harry Potter and ...|[{\"cast_id\": 3, \"...|[{\"credit_id\": \"5...|\n",
      "|  209112|Batman v Superman...|[{\"cast_id\": 18, ...|[{\"credit_id\": \"5...|\n",
      "|    1452|    Superman Returns|[{\"cast_id\": 3, \"...|[{\"credit_id\": \"5...|\n",
      "|   10764|   Quantum of Solace|[{\"cast_id\": 1, \"...|[{\"credit_id\": \"5...|\n",
      "|      58|Pirates of the Ca...|[{\"cast_id\": 37, ...|[{\"credit_id\": \"5...|\n",
      "|   57201|     The Lone Ranger|[{\"cast_id\": 4, \"...|[{\"credit_id\": \"5...|\n",
      "|   49521|        Man of Steel|[{\"cast_id\": 2, \"...|[{\"credit_id\": \"5...|\n",
      "|    2454|The Chronicles of...|[{\"cast_id\": 1, \"...|[{\"credit_id\": \"5...|\n",
      "|   24428|        The Avengers|[{\"cast_id\": 46, ...|[{\"credit_id\": \"5...|\n",
      "|    1865|Pirates of the Ca...|[{\"cast_id\": 15, ...|[{\"credit_id\": \"5...|\n",
      "|   41154|      Men in Black 3|[{\"cast_id\": 4, \"...|[{\"credit_id\": \"5...|\n",
      "|  122917|The Hobbit: The B...|[{\"cast_id\": 10, ...|[{\"credit_id\": \"5...|\n",
      "+--------+--------------------+--------------------+--------------------+\n",
      "only showing top 20 rows\n",
      "\n"
     ]
    }
   ],
   "source": [
    "df.show()"
   ]
  },
  {
   "cell_type": "code",
   "execution_count": 6,
   "id": "fe4f4f05-af96-4923-bed8-8642d4c41041",
   "metadata": {},
   "outputs": [
    {
     "name": "stdout",
     "output_type": "stream",
     "text": [
      "root\n",
      " |-- movie_id: integer (nullable = true)\n",
      " |-- title: string (nullable = true)\n",
      " |-- cast: string (nullable = true)\n",
      " |-- crew: string (nullable = true)\n",
      "\n"
     ]
    }
   ],
   "source": [
    "df.printSchema()"
   ]
  },
  {
   "cell_type": "code",
   "execution_count": null,
   "id": "98264957-0986-4578-b251-8f3f1f248cb4",
   "metadata": {},
   "outputs": [],
   "source": []
  },
  {
   "cell_type": "code",
   "execution_count": null,
   "id": "d36f35cc-9740-4b7b-b53d-7b9ed2c520f8",
   "metadata": {},
   "outputs": [],
   "source": []
  },
  {
   "cell_type": "code",
   "execution_count": 9,
   "id": "3e852828-14dd-4a65-9a29-d4ddf61c1a87",
   "metadata": {},
   "outputs": [
    {
     "name": "stdout",
     "output_type": "stream",
     "text": [
      "+--------+------+------------------------+-----------------+------+----+------------------------+------------------+\n",
      "|movie_id|title |credit_id               |department       |gender|id  |job                     |name              |\n",
      "+--------+------+------------------------+-----------------+------+----+------------------------+------------------+\n",
      "|19995   |Avatar|52fe48009251416c750aca23|Editing          |0     |1721|Editor                  |Stephen E. Rivkin |\n",
      "|19995   |Avatar|539c47ecc3a36810e3001f87|Art              |2     |496 |Production Design       |Rick Carter       |\n",
      "|19995   |Avatar|54491c89c3a3680fb4001cf7|Sound            |0     |900 |Sound Designer          |Christopher Boyes |\n",
      "|19995   |Avatar|54491cb70e0a267480001bd0|Sound            |0     |900 |Supervising Sound Editor|Christopher Boyes |\n",
      "|19995   |Avatar|539c4a4cc3a36810c9002101|Production       |1     |1262|Casting                 |Mali Finn         |\n",
      "|19995   |Avatar|5544ee3b925141499f0008fc|Sound            |2     |1729|Original Music Composer |James Horner      |\n",
      "|19995   |Avatar|52fe48009251416c750ac9c3|Directing        |2     |2710|Director                |James Cameron     |\n",
      "|19995   |Avatar|52fe48009251416c750ac9d9|Writing          |2     |2710|Writer                  |James Cameron     |\n",
      "|19995   |Avatar|52fe48009251416c750aca17|Editing          |2     |2710|Editor                  |James Cameron     |\n",
      "|19995   |Avatar|52fe48009251416c750aca29|Production       |2     |2710|Producer                |James Cameron     |\n",
      "|19995   |Avatar|52fe48009251416c750aca3f|Writing          |2     |2710|Screenplay              |James Cameron     |\n",
      "|19995   |Avatar|539c4987c3a36810ba0021a4|Art              |2     |7236|Art Direction           |Andrew Menzies    |\n",
      "|19995   |Avatar|549598c3c3a3686ae9004383|Visual Effects   |0     |6690|Visual Effects Producer |Jill Brooks       |\n",
      "|19995   |Avatar|52fe48009251416c750aca4b|Production       |1     |6347|Casting                 |Margery Simkin    |\n",
      "|19995   |Avatar|570b6f419251417da70032fe|Art              |2     |6878|Supervising Art Director|Kevin Ishioka     |\n",
      "|19995   |Avatar|5495a0fac3a3686ae9004468|Sound            |0     |6883|Music Editor            |Dick Bernstein    |\n",
      "|19995   |Avatar|54959706c3a3686af3003e81|Sound            |0     |8159|Sound Effects Editor    |Shannon Mills     |\n",
      "|19995   |Avatar|54491d58c3a3680fb1001ccb|Sound            |0     |8160|Foley                   |Dennie Thorpe     |\n",
      "|19995   |Avatar|54491d6cc3a3680fa5001b2c|Sound            |0     |8163|Foley                   |Jana Vance        |\n",
      "|19995   |Avatar|52fe48009251416c750aca57|Costume & Make-Up|1     |8527|Costume Design          |Deborah Lynn Scott|\n",
      "+--------+------+------------------------+-----------------+------+----+------------------------+------------------+\n",
      "only showing top 20 rows\n",
      "\n"
     ]
    }
   ],
   "source": [
    "#şema\n",
    "crew_schema = StructType([\n",
    "    StructField(\"credit_id\", StringType(), True),\n",
    "    StructField(\"department\", StringType(), True),\n",
    "    StructField(\"gender\", IntegerType(), True),\n",
    "    StructField(\"id\", IntegerType(), True),\n",
    "    StructField(\"job\", StringType(), True),\n",
    "    StructField(\"name\", StringType(), True)\n",
    "])\n",
    "\n",
    "# crew sutunu JSON \n",
    "df = df.withColumn(\"crew\", from_json(col(\"crew\"), ArrayType(crew_schema)))\n",
    "# crew sutunu explode \n",
    "df = df.withColumn(\"crew\", explode(col(\"crew\")))\n",
    "\n",
    "\n",
    "# credits_crew df\n",
    "credits_crew = df.select(\n",
    "    col(\"movie_id\"),\n",
    "    col(\"title\"),\n",
    "    col(\"crew.credit_id\"),\n",
    "    col(\"crew.department\"),\n",
    "    col(\"crew.gender\"),\n",
    "    col(\"crew.id\"),\n",
    "    col(\"crew.job\"),\n",
    "    col(\"crew.name\")\n",
    ")\n",
    "\n",
    "#show\n",
    "credits_crew.show(truncate=False)\n",
    "\n",
    "\n"
   ]
  },
  {
   "cell_type": "code",
   "execution_count": 8,
   "id": "2378adb3-ce82-48c9-b068-8e7b53fff647",
   "metadata": {},
   "outputs": [
    {
     "name": "stdout",
     "output_type": "stream",
     "text": [
      "+--------+--------------------+--------------------+--------------------+--------------------+--------------------+--------------------+--------------------+\n",
      "|movie_id|               title|           credit_id|          department|              gender|                  id|                 job|                name|\n",
      "+--------+--------------------+--------------------+--------------------+--------------------+--------------------+--------------------+--------------------+\n",
      "|   19995|              Avatar|[52fe48009251416c...|[Editing, Art, So...|[0, 2, 0, 0, 1, 2...|[1721, 496, 900, ...|[Editor, Producti...|[Stephen E. Rivki...|\n",
      "|     285|Pirates of the Ca...|[52fe4232c3a36847...|[Camera, Directin...|[2, 2, 2, 2, 2, 0...|[120, 1704, 770, ...|[Director of Phot...|[Dariusz Wolski, ...|\n",
      "|  206647|             Spectre|[54805967c3a36829...|[Sound, Directing...|[2, 2, 1, 2, 2, 2...|[153, 39, 8384, 9...|[Original Music C...|[Thomas Newman, S...|\n",
      "|   49026|The Dark Knight R...|[52fe4781c3a36847...|[Sound, Productio...|[2, 0, 2, 2, 2, 2...|[947, 282, 525, 5...|[Original Music C...|[Hans Zimmer, Cha...|\n",
      "|   49529|         John Carter|[52fe479ac3a36847...|[Writing, Directi...|[2, 2, 2, 2, 2, 2...|[7, 7, 7879, 490,...|[Screenplay, Dire...|[Andrew Stanton, ...|\n",
      "|     559|        Spider-Man 3|[52fe4252c3a36847...|[Production, Prod...|[1, 0, 2, 2, 2, 2...|[6410, 10570, 762...|[Casting, Executi...|[Francine Maisler...|\n",
      "|   38757|             Tangled|[52fe46db9251416c...|[Production, Writ...|[2, 2, 2, 0, 0, 2...|[7879, 38748, 544...|[Executive Produc...|[John Lasseter, J...|\n",
      "|   99861|Avengers: Age of ...|[55d5f7d4c3a3683e...|[Sound, Sound, So...|[2, 0, 0, 1, 2, 2...|[531, 900, 900, 7...|[Original Music C...|[Danny Elfman, Ch...|\n",
      "|     767|Harry Potter and ...|[52fe4273c3a36847...|[Camera, Art, Art...|[0, 1, 2, 1, 2, 2...|[2423, 5331, 5491...|[Director of Phot...|[Bruno Delbonnel,...|\n",
      "|  209112|Batman v Superman...|[553bf23692514135...|[Sound, Productio...|[2, 0, 2, 1, 2, 2...|[947, 282, 525, 5...|[Original Music C...|[Hans Zimmer, Cha...|\n",
      "|    1452|    Superman Returns|[553bef6a92514168...|[Production, Prod...|[2, 2, 0, 2, 2, 2...|[3276, 3805, 1319...|[Casting, Produce...|[Roger Mussenden,...|\n",
      "|   10764|   Quantum of Solace|[52fe43b29251416c...|[Writing, Art, Wr...|[2, 2, 2, 1, 2, 2...|[455, 4248, 9856,...|[Screenplay, Prod...|[Paul Haggis, Den...|\n",
      "|      58|Pirates of the Ca...|[52fe4211c3a36847...|[Camera, Directin...|[2, 2, 2, 2, 2, 2...|[120, 1704, 770, ...|[Director of Phot...|[Dariusz Wolski, ...|\n",
      "|   57201|     The Lone Ranger|[52fe4928c3a36847...|[Directing, Produ...|[2, 2, 2, 2, 2, 2...|[1704, 1704, 770,...|[Director, Produc...|[Gore Verbinski, ...|\n",
      "|   49521|        Man of Steel|[52fe4799c3a36847...|[Sound, Productio...|[2, 0, 2, 2, 2, 1...|[947, 282, 286, 5...|[Original Music C...|[Hans Zimmer, Cha...|\n",
      "|    2454|The Chronicles of...|[55a239e692514129...|[Production, Prod...|[1, 2, 0, 0, 2, 2...|[1326, 2073, 4854...|[Casting, Casting...|[Liz Mullane, Gai...|\n",
      "|   24428|        The Avengers|[52fe4495c3a36848...|[Sound, Sound, So...|[2, 0, 0, 0, 1, 2...|[37, 900, 900, 32...|[Original Music C...|[Alan Silvestri, ...|\n",
      "|    1865|Pirates of the Ca...|[566b4f54c3a3683f...|[Camera, Producti...|[2, 2, 2, 2, 2, 2...|[120, 770, 1705, ...|[Director of Phot...|[Dariusz Wolski, ...|\n",
      "|   41154|      Men in Black 3|[52fe45b7c3a36847...|[Production, Soun...|[2, 2, 1, 2, 2, 2...|[488, 531, 1484, ...|[Executive Produc...|[Steven Spielberg...|\n",
      "|  122917|The Hobbit: The B...|[548ad49a9251414f...|[Sound, Sound, Di...|[2, 0, 2, 2, 2, 2...|[117, 900, 108, 1...|[Original Music C...|[Howard Shore, Ch...|\n",
      "+--------+--------------------+--------------------+--------------------+--------------------+--------------------+--------------------+--------------------+\n",
      "only showing top 20 rows\n",
      "\n"
     ]
    }
   ],
   "source": [
    "\n",
    "#sadece from_json yapılmıs hali\n",
    "from pyspark.sql.functions import col, explode\n",
    "from pyspark.sql.types import StructType, StructField, StringType, IntegerType\n",
    "\n",
    "# Şema\n",
    "crew_schema = StructType([\n",
    "    StructField(\"credit_id\", StringType(), True),\n",
    "    StructField(\"department\", StringType(), True),\n",
    "    StructField(\"gender\", IntegerType(), True),\n",
    "    StructField(\"id\", IntegerType(), True),\n",
    "    StructField(\"job\", StringType(), True),\n",
    "    StructField(\"name\", StringType(), True)\n",
    "])\n",
    "\n",
    "# crew sütununu JSON \n",
    "crew_json = df.withColumn(\"crew\", F.from_json(F.col(\"crew\"), ArrayType( crew_schema )))\n",
    "\n",
    "# \n",
    "credits_crew2 = crew_json.select(\n",
    "    \"movie_id\",\n",
    "    \"title\",\n",
    "    \"crew.credit_id\",\n",
    "    \"crew.department\",\n",
    "    \"crew.gender\",\n",
    "    \"crew.id\",\n",
    "    \"crew.job\",\n",
    "    \"crew.name\"\n",
    ")\n",
    "\n",
    "#\n",
    "credits_crew2.show()\n"
   ]
  },
  {
   "cell_type": "code",
   "execution_count": null,
   "id": "135a9209-1a8f-4e4c-9bad-88735ffd738d",
   "metadata": {},
   "outputs": [],
   "source": []
  },
  {
   "cell_type": "code",
   "execution_count": null,
   "id": "97c0149b-b21d-44f1-b095-8a69181796c2",
   "metadata": {},
   "outputs": [],
   "source": []
  },
  {
   "cell_type": "code",
   "execution_count": null,
   "id": "d0bda35a-4282-403c-ac91-3f1ce2e17e7e",
   "metadata": {},
   "outputs": [],
   "source": []
  },
  {
   "cell_type": "code",
   "execution_count": null,
   "id": "00b38847-c096-41ec-95fd-5d76a31dc270",
   "metadata": {},
   "outputs": [],
   "source": []
  },
  {
   "cell_type": "code",
   "execution_count": null,
   "id": "7b9a3c45-ee84-4eb6-a63d-7ce3c695455d",
   "metadata": {},
   "outputs": [],
   "source": []
  },
  {
   "cell_type": "code",
   "execution_count": null,
   "id": "8453ba0a-77cf-48f0-87aa-63acf57ff994",
   "metadata": {},
   "outputs": [],
   "source": []
  }
 ],
 "metadata": {
  "kernelspec": {
   "display_name": "Python 3 (ipykernel)",
   "language": "python",
   "name": "python3"
  },
  "language_info": {
   "codemirror_mode": {
    "name": "ipython",
    "version": 3
   },
   "file_extension": ".py",
   "mimetype": "text/x-python",
   "name": "python",
   "nbconvert_exporter": "python",
   "pygments_lexer": "ipython3",
   "version": "3.8.19"
  }
 },
 "nbformat": 4,
 "nbformat_minor": 5
}
