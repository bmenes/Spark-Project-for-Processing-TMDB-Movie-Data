{
 "cells": [
  {
   "cell_type": "code",
   "execution_count": 1,
   "id": "7f30592f-bb3a-434b-a653-c92459421c2d",
   "metadata": {},
   "outputs": [],
   "source": [
    "import findspark\n",
    "findspark.init(\"/opt/spark/\")\n",
    "from pyspark.sql import SparkSession, functions as F\n",
    "from pyspark.sql.types import *\n",
    "from pyspark.sql.functions import regexp_replace\n",
    "import configparser\n",
    "import os\n",
    "from pyspark.sql import functions as F\n",
    "from pyspark.sql.functions import month, date_format\n",
    "from pyspark.sql.functions import explode, col, from_json, struct\n",
    "from pyspark.sql.types import StructType, StructField, StringType, IntegerType\n",
    "from pyspark.sql.functions import split, explode, regexp_replace\n",
    "from pyspark.sql.types import StructType, StructField, IntegerType, StringType\n",
    "\n",
    "from pyspark.sql.functions import split, explode, regexp_replace, from_json\n",
    "\n",
    "from pyspark.sql.types import StructType, StructField, IntegerType, StringType"
   ]
  },
  {
   "cell_type": "code",
   "execution_count": 2,
   "id": "2a3550a3-a352-4658-9ef5-468f5081c36e",
   "metadata": {},
   "outputs": [
    {
     "name": "stdout",
     "output_type": "stream",
     "text": [
      ":: loading settings :: url = jar:file:/opt/spark/jars/ivy-2.5.1.jar!/org/apache/ivy/core/settings/ivysettings.xml\n"
     ]
    },
    {
     "name": "stderr",
     "output_type": "stream",
     "text": [
      "Ivy Default Cache set to: /home/train/.ivy2/cache\n",
      "The jars for the packages stored in: /home/train/.ivy2/jars\n",
      "org.postgresql#postgresql added as a dependency\n",
      ":: resolving dependencies :: org.apache.spark#spark-submit-parent-49580479-2879-44d6-9c5a-d6bf777fe1a9;1.0\n",
      "\tconfs: [default]\n",
      "\tfound org.postgresql#postgresql;42.7.2 in central\n",
      "\tfound org.checkerframework#checker-qual;3.42.0 in central\n",
      ":: resolution report :: resolve 145ms :: artifacts dl 5ms\n",
      "\t:: modules in use:\n",
      "\torg.checkerframework#checker-qual;3.42.0 from central in [default]\n",
      "\torg.postgresql#postgresql;42.7.2 from central in [default]\n",
      "\t---------------------------------------------------------------------\n",
      "\t|                  |            modules            ||   artifacts   |\n",
      "\t|       conf       | number| search|dwnlded|evicted|| number|dwnlded|\n",
      "\t---------------------------------------------------------------------\n",
      "\t|      default     |   2   |   0   |   0   |   0   ||   2   |   0   |\n",
      "\t---------------------------------------------------------------------\n",
      ":: retrieving :: org.apache.spark#spark-submit-parent-49580479-2879-44d6-9c5a-d6bf777fe1a9\n",
      "\tconfs: [default]\n",
      "\t0 artifacts copied, 2 already retrieved (0kB/6ms)\n",
      "24/05/09 15:54:20 WARN NativeCodeLoader: Unable to load native-hadoop library for your platform... using builtin-java classes where applicable\n",
      "Setting default log level to \"WARN\".\n",
      "To adjust logging level use sc.setLogLevel(newLevel). For SparkR, use setLogLevel(newLevel).\n",
      "24/05/09 15:54:21 WARN Utils: Service 'SparkUI' could not bind on port 4040. Attempting port 4041.\n"
     ]
    }
   ],
   "source": [
    "spark = SparkSession.builder \\\n",
    ".appName(\"week10\") \\\n",
    ".config(\"spark.jars.packages\", \"org.postgresql:postgresql:42.7.2\") \\\n",
    ".master(\"local[2]\") \\\n",
    ".getOrCreate()"
   ]
  },
  {
   "cell_type": "code",
   "execution_count": 3,
   "id": "47f5093d-c52a-48c2-9490-0b9bb8b84639",
   "metadata": {},
   "outputs": [
    {
     "name": "stdout",
     "output_type": "stream",
     "text": [
      "openjdk 11.0.22 2024-01-16 LTS\n",
      "OpenJDK Runtime Environment (Red_Hat-11.0.22.0.7-1.el7_9) (build 11.0.22+7-LTS)\n",
      "OpenJDK 64-Bit Server VM (Red_Hat-11.0.22.0.7-1.el7_9) (build 11.0.22+7-LTS, mixed mode, sharing)\n"
     ]
    }
   ],
   "source": [
    "! java --version\n"
   ]
  },
  {
   "cell_type": "code",
   "execution_count": 4,
   "id": "d29f4a74-20d5-47b9-af11-54c0771c1a88",
   "metadata": {},
   "outputs": [
    {
     "name": "stderr",
     "output_type": "stream",
     "text": [
      "                                                                                \r"
     ]
    }
   ],
   "source": [
    "df = spark.read \\\n",
    ".format(\"csv\") \\\n",
    ".option(\"header\", True) \\\n",
    ".option(\"inferSchema\", True) \\\n",
    ".option(\"sep\",\",\") \\\n",
    ".load(\"datasets/tmdb_5000_movies_and_credits/tmdb_5000_credits.csv\")\n"
   ]
  },
  {
   "cell_type": "code",
   "execution_count": 5,
   "id": "8b22ce96-fbda-43ee-8748-856db8434944",
   "metadata": {},
   "outputs": [
    {
     "name": "stderr",
     "output_type": "stream",
     "text": [
      "                                                                                \r"
     ]
    }
   ],
   "source": [
    "df = spark.read \\\n",
    ".format(\"csv\") \\\n",
    ".option(\"header\", True) \\\n",
    ".option(\"inferSchema\", True) \\\n",
    ".option(\"compression\",\"gzip\") \\\n",
    ".option(\"quote\", \"\\\"\") \\\n",
    ".option(\"escape\", \"\\\"\") \\\n",
    ".load(\"datasets/tmdb_5000_movies_and_credits/tmdb_5000_credits.csv\")\n"
   ]
  },
  {
   "cell_type": "code",
   "execution_count": 6,
   "id": "011553b7-7518-47eb-8331-c8b5a326cb70",
   "metadata": {},
   "outputs": [
    {
     "name": "stdout",
     "output_type": "stream",
     "text": [
      "root\n",
      " |-- movie_id: integer (nullable = true)\n",
      " |-- title: string (nullable = true)\n",
      " |-- cast: string (nullable = true)\n",
      " |-- crew: string (nullable = true)\n",
      "\n"
     ]
    }
   ],
   "source": [
    "df.printSchema()"
   ]
  },
  {
   "cell_type": "code",
   "execution_count": 7,
   "id": "b4eb7168-ef39-45f0-854d-e0d4b1f57a16",
   "metadata": {},
   "outputs": [
    {
     "name": "stdout",
     "output_type": "stream",
     "text": [
      "+--------+--------------------+--------------------+--------------------+\n",
      "|movie_id|               title|                cast|                crew|\n",
      "+--------+--------------------+--------------------+--------------------+\n",
      "|   19995|              Avatar|[{\"cast_id\": 242,...|[{\"credit_id\": \"5...|\n",
      "|     285|Pirates of the Ca...|[{\"cast_id\": 4, \"...|[{\"credit_id\": \"5...|\n",
      "+--------+--------------------+--------------------+--------------------+\n",
      "only showing top 2 rows\n",
      "\n"
     ]
    }
   ],
   "source": [
    "df.show(2)"
   ]
  },
  {
   "cell_type": "code",
   "execution_count": 8,
   "id": "dbb8d886-162e-4fc9-b542-ccb1bda1a6bd",
   "metadata": {},
   "outputs": [
    {
     "name": "stdout",
     "output_type": "stream",
     "text": [
      "+--------+------+-------+------------------------+------+-------+-------------------+\n",
      "|movie_id|title |cast_id|credit_id               |gender|id     |name               |\n",
      "+--------+------+-------+------------------------+------+-------+-------------------+\n",
      "|19995   |Avatar|242    |5602a8a7c3a3685532001c9a|2     |65731  |Sam Worthington    |\n",
      "|19995   |Avatar|3      |52fe48009251416c750ac9cb|1     |8691   |Zoe Saldana        |\n",
      "|19995   |Avatar|25     |52fe48009251416c750aca39|1     |10205  |Sigourney Weaver   |\n",
      "|19995   |Avatar|4      |52fe48009251416c750ac9cf|2     |32747  |Stephen Lang       |\n",
      "|19995   |Avatar|5      |52fe48009251416c750ac9d3|1     |17647  |Michelle Rodriguez |\n",
      "|19995   |Avatar|8      |52fe48009251416c750ac9e1|2     |1771   |Giovanni Ribisi    |\n",
      "|19995   |Avatar|7      |52fe48009251416c750ac9dd|2     |59231  |Joel David Moore   |\n",
      "|19995   |Avatar|9      |52fe48009251416c750ac9e5|1     |30485  |CCH Pounder        |\n",
      "|19995   |Avatar|11     |52fe48009251416c750ac9ed|2     |15853  |Wes Studi          |\n",
      "|19995   |Avatar|10     |52fe48009251416c750ac9e9|2     |10964  |Laz Alonso         |\n",
      "|19995   |Avatar|12     |52fe48009251416c750ac9f1|2     |95697  |Dileep Rao         |\n",
      "|19995   |Avatar|13     |52fe48009251416c750ac9f5|2     |98215  |Matt Gerald        |\n",
      "|19995   |Avatar|32     |52fe48009251416c750aca5b|2     |154153 |Sean Anthony Moran |\n",
      "|19995   |Avatar|33     |52fe48009251416c750aca5f|2     |397312 |Jason Whyte        |\n",
      "|19995   |Avatar|34     |52fe48009251416c750aca63|2     |42317  |Scott Lawrence     |\n",
      "|19995   |Avatar|35     |52fe48009251416c750aca67|2     |986734 |Kelly Kilgour      |\n",
      "|19995   |Avatar|36     |52fe48009251416c750aca6b|0     |1207227|James Patrick Pitt |\n",
      "|19995   |Avatar|37     |52fe48009251416c750aca6f|0     |1180936|Sean Patrick Murphy|\n",
      "|19995   |Avatar|38     |52fe48009251416c750aca73|2     |1019578|Peter Dillon       |\n",
      "|19995   |Avatar|39     |52fe48009251416c750aca77|0     |91443  |Kevin Dorman       |\n",
      "+--------+------+-------+------------------------+------+-------+-------------------+\n",
      "only showing top 20 rows\n",
      "\n"
     ]
    }
   ],
   "source": [
    "#şema \n",
    "cast_schema = StructType([\n",
    "    StructField(\"cast_id\", IntegerType(), True),\n",
    "    StructField(\"character\", StringType(), True),\n",
    "    StructField(\"credit_id\", StringType(), True),\n",
    "    StructField(\"gender\", IntegerType(), True),\n",
    "    StructField(\"id\", IntegerType(), True),\n",
    "    StructField(\"name\", StringType(), True),\n",
    "    StructField(\"order\", IntegerType(), True)\n",
    "])\n",
    "# cast sutunu JSON  \n",
    "df = df.withColumn(\"cast\", from_json(col(\"cast\"), ArrayType(cast_schema)))\n",
    "# cast sutunu explode\n",
    "df = df.withColumn(\"cast\", explode(col(\"cast\")))\n",
    "\n",
    "\n",
    "# credits_cast df\n",
    "credits_cast = df.select(\n",
    "    col(\"movie_id\"),\n",
    "    col(\"title\"),\n",
    "    col(\"cast.cast_id\"),\n",
    "    col(\"cast.credit_id\"),\n",
    "    col(\"cast.gender\"),\n",
    "    col(\"cast.id\"),\n",
    "    col(\"cast.name\"))\n",
    "\n",
    "# show\n",
    "credits_cast.show(truncate=False)\n",
    "\n",
    "\n"
   ]
  },
  {
   "cell_type": "code",
   "execution_count": null,
   "id": "e769036f-6cc2-40f4-a422-4ce6d2c4a138",
   "metadata": {},
   "outputs": [],
   "source": []
  },
  {
   "cell_type": "code",
   "execution_count": null,
   "id": "a503408a-28a5-4754-9dbc-ad0dc26392dd",
   "metadata": {},
   "outputs": [],
   "source": []
  },
  {
   "cell_type": "code",
   "execution_count": null,
   "id": "85395e26-670b-4532-a9c7-4b37611ef8bc",
   "metadata": {},
   "outputs": [],
   "source": []
  },
  {
   "cell_type": "code",
   "execution_count": null,
   "id": "687fe474-05f9-4e0a-b927-096a1aa0a7d6",
   "metadata": {},
   "outputs": [],
   "source": []
  },
  {
   "cell_type": "code",
   "execution_count": null,
   "id": "383c1e2f-5a03-421d-8bf0-69de8e50156e",
   "metadata": {},
   "outputs": [],
   "source": []
  },
  {
   "cell_type": "code",
   "execution_count": null,
   "id": "9fec650f-ab92-425f-ae1d-51060dae1903",
   "metadata": {},
   "outputs": [],
   "source": []
  },
  {
   "cell_type": "code",
   "execution_count": null,
   "id": "c8c19093-81af-40ae-9a0a-62e76cb381b0",
   "metadata": {
    "scrolled": true
   },
   "outputs": [],
   "source": []
  },
  {
   "cell_type": "code",
   "execution_count": null,
   "id": "7ef4967f-7e6d-4ae9-815c-4c5c4295d963",
   "metadata": {},
   "outputs": [],
   "source": []
  },
  {
   "cell_type": "code",
   "execution_count": null,
   "id": "70ad196c-51e3-47e3-9acb-5622a2f5fa09",
   "metadata": {},
   "outputs": [],
   "source": []
  },
  {
   "cell_type": "code",
   "execution_count": null,
   "id": "5232ed21-f67e-481b-8681-11de0867f665",
   "metadata": {},
   "outputs": [],
   "source": []
  },
  {
   "cell_type": "code",
   "execution_count": null,
   "id": "2dc994bd-4887-4be0-a35d-a1e8eeeffd38",
   "metadata": {},
   "outputs": [],
   "source": []
  }
 ],
 "metadata": {
  "kernelspec": {
   "display_name": "Python 3 (ipykernel)",
   "language": "python",
   "name": "python3"
  },
  "language_info": {
   "codemirror_mode": {
    "name": "ipython",
    "version": 3
   },
   "file_extension": ".py",
   "mimetype": "text/x-python",
   "name": "python",
   "nbconvert_exporter": "python",
   "pygments_lexer": "ipython3",
   "version": "3.8.19"
  }
 },
 "nbformat": 4,
 "nbformat_minor": 5
}
